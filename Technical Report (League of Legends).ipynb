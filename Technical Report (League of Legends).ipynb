{
 "cells": [
  {
   "cell_type": "markdown",
   "metadata": {},
   "source": [
    "## Picking Smarter Games in League of Legends\n",
    "- Creator: Jacky Dam\n",
    "- LinkedIn: https://www.linkedin.com/in/jackydam/\n",
    "- GitHub: https://github.com/jacky3331"
   ]
  },
  {
   "cell_type": "markdown",
   "metadata": {},
   "source": [
    "## Summary of Findings\n",
    "\n",
    "### Introduction\n",
    "League of Legends is a popular team-based strategy game where players are able to select champions (characters with unique fighting abilities) and work together to destroy the enemys' base. Before starting a competitive ranked match, players are queued up in a matchmaking lobby in which each of the two teams alternate between picking a unique champion visible to everyone before the game start. A ranked champion selection demo can be found in the later sections.\n",
    "\n",
    "With the ability to scrape large datasets of League of Legends match history information, I explored the possibility of creating models which would be able to predict the winning team given the champion team compositions. If it was possible to create a model that is able to predict the outcome of a ranked game with a reasonable performance (better than 50%), then it would allow players to make a better informed decision of dodging a less ideal game to preserve champion stats and improve global player ranking.\n",
    "\n",
    "### Data Collection\n",
    "By learning how to utilize the official Riot Games API library (Cassiopeia), I was able to generate a large dataset of match history information to start my technical analysis. This API library is available to the public with a certain limit restriction of how much player data could be retrieved per minute. The script I used for this project can be found in the same folder with this python notebook. More information about the Cassiopeia API library can be found below:\n",
    "- https://github.com/meraki-analytics/cassiopeia\n",
    "\n",
    "### Cleaning and EDA\n",
    "Since I utilized a script to collect lots of match history information, I need to create a method to process the raw data in order to ensure that the model isn't working with duplicate/incomplete match information. Additionally, I chose to select certain columns which includes: match id, team color, team position, champion, kills, deaths, assists, and whether they won their game.\n",
    "\n",
    "In my Exploratory Data Analysis, I drew inference from visualizing the win rates of the champions and illustrated the popularity of the champions by the number of games played. Through my analysis, I am able to observe interesting trends which I would later use to build the perfect team composition with my predictive model.\n",
    "\n",
    "### Model Selection\n",
    "\n",
    "### Results & Outcome"
   ]
  },
  {
   "cell_type": "markdown",
   "metadata": {},
   "source": [
    "## Imports"
   ]
  },
  {
   "cell_type": "code",
   "execution_count": 1,
   "metadata": {
    "ExecuteTime": {
     "end_time": "2019-10-31T23:36:28.652554Z",
     "start_time": "2019-10-31T23:36:27.180520Z"
    }
   },
   "outputs": [],
   "source": [
    "import numpy as np\n",
    "import pandas as pd\n",
    "import matplotlib.pyplot as plt\n",
    "import seaborn as sns\n",
    "from scipy.stats import ttest_ind\n",
    "\n",
    "import sklearn\n",
    "from sklearn.model_selection import train_test_split\n",
    "from sklearn.metrics import accuracy_score\n",
    "from sklearn.tree import DecisionTreeClassifier\n",
    "from sklearn.ensemble import RandomForestClassifier\n",
    "from sklearn.model_selection import GridSearchCV, RandomizedSearchCV\n",
    "from category_encoders import  OneHotEncoder, OrdinalEncoder\n",
    "from sklearn.preprocessing import StandardScaler\n",
    "from sklearn.pipeline import make_pipeline\n",
    "from sklearn import linear_model\n",
    "import random\n",
    "\n",
    "from IPython.display import YouTubeVideo\n",
    "from tabulate import tabulate"
   ]
  },
  {
   "cell_type": "markdown",
   "metadata": {},
   "source": [
    "### Ranked Champion Selection Demo (optional)"
   ]
  },
  {
   "cell_type": "code",
   "execution_count": 2,
   "metadata": {},
   "outputs": [
    {
     "data": {
      "image/jpeg": "[encoded data removed]",
      "text/html": [
       "\n",
       "        <iframe\n",
       "            width=\"400\"\n",
       "            height=\"300\"\n",
       "            src=\"https://www.youtube.com/embed/CfXQrfhFRnI\"\n",
       "            frameborder=\"0\"\n",
       "            allowfullscreen\n",
       "        ></iframe>\n",
       "        "
      ],
      "text/plain": [
       "<IPython.lib.display.YouTubeVideo at 0x1cdd5bc5910>"
      ]
     },
     "execution_count": 2,
     "metadata": {},
     "output_type": "execute_result"
    }
   ],
   "source": [
    "YouTubeVideo(\"CfXQrfhFRnI\")"
   ]
  },
  {
   "cell_type": "markdown",
   "metadata": {},
   "source": [
    "## Code"
   ]
  },
  {
   "cell_type": "markdown",
   "metadata": {},
   "source": [
    "### Processing & Cleaning"
   ]
  },
  {
   "cell_type": "code",
   "execution_count": 3,
   "metadata": {},
   "outputs": [],
   "source": [
    "def clean_data(match_history):\n",
    "    # Make a copy of the dataframe\n",
    "    df = match_history.copy()\n",
    "    \n",
    "    # Select columns we want to work with\n",
    "    df = df[[\"match_id\", \"side\", \"team_position\", \"champion\", \"kills\", \"deaths\", \"assists\", \"win\"]]\n",
    "    df = df.drop_duplicates()\n",
    "    \n",
    "    # Drop player information if match is incomplete i.e. match id does not contain 10 players\n",
    "    df = df[df[\"match_id\"].map((df[\"match_id\"].value_counts()==10))]\n",
    "    \n",
    "    return df"
   ]
  },
  {
   "cell_type": "code",
   "execution_count": 4,
   "metadata": {},
   "outputs": [
    {
     "data": {
      "text/html": [
       "<div>\n",
       "<style scoped>\n",
       "    .dataframe tbody tr th:only-of-type {\n",
       "        vertical-align: middle;\n",
       "    }\n",
       "\n",
       "    .dataframe tbody tr th {\n",
       "        vertical-align: top;\n",
       "    }\n",
       "\n",
       "    .dataframe thead th {\n",
       "        text-align: right;\n",
       "    }\n",
       "</style>\n",
       "<table border=\"1\" class=\"dataframe\">\n",
       "  <thead>\n",
       "    <tr style=\"text-align: right;\">\n",
       "      <th></th>\n",
       "      <th>match_id</th>\n",
       "      <th>duration</th>\n",
       "      <th>summoner_name</th>\n",
       "      <th>side</th>\n",
       "      <th>team_position</th>\n",
       "      <th>summoner_level</th>\n",
       "      <th>win</th>\n",
       "      <th>champion</th>\n",
       "      <th>kills</th>\n",
       "      <th>deaths</th>\n",
       "      <th>assists</th>\n",
       "      <th>damage_to_turrets</th>\n",
       "      <th>gold_earned</th>\n",
       "      <th>turret_takedowns</th>\n",
       "      <th>vision_score</th>\n",
       "      <th>minions_killed</th>\n",
       "      <th>first_blood</th>\n",
       "      <th>first_tower</th>\n",
       "    </tr>\n",
       "  </thead>\n",
       "  <tbody>\n",
       "    <tr>\n",
       "      <th>0</th>\n",
       "      <td>4306514682</td>\n",
       "      <td>0:00:01.822000</td>\n",
       "      <td>top is weakside</td>\n",
       "      <td>blue</td>\n",
       "      <td>top_lane</td>\n",
       "      <td>48</td>\n",
       "      <td>False</td>\n",
       "      <td>Malphite</td>\n",
       "      <td>1</td>\n",
       "      <td>8</td>\n",
       "      <td>8</td>\n",
       "      <td>323</td>\n",
       "      <td>8539</td>\n",
       "      <td>0</td>\n",
       "      <td>26</td>\n",
       "      <td>150</td>\n",
       "      <td>False</td>\n",
       "      <td>False</td>\n",
       "    </tr>\n",
       "    <tr>\n",
       "      <th>1</th>\n",
       "      <td>4306514682</td>\n",
       "      <td>0:00:01.822000</td>\n",
       "      <td>Bellydrum</td>\n",
       "      <td>blue</td>\n",
       "      <td>jungle</td>\n",
       "      <td>248</td>\n",
       "      <td>False</td>\n",
       "      <td>Graves</td>\n",
       "      <td>12</td>\n",
       "      <td>10</td>\n",
       "      <td>8</td>\n",
       "      <td>743</td>\n",
       "      <td>14714</td>\n",
       "      <td>0</td>\n",
       "      <td>90</td>\n",
       "      <td>81</td>\n",
       "      <td>True</td>\n",
       "      <td>False</td>\n",
       "    </tr>\n",
       "    <tr>\n",
       "      <th>2</th>\n",
       "      <td>4306514682</td>\n",
       "      <td>0:00:01.822000</td>\n",
       "      <td>Roh Jungeui</td>\n",
       "      <td>blue</td>\n",
       "      <td>mid_lane</td>\n",
       "      <td>433</td>\n",
       "      <td>False</td>\n",
       "      <td>Sylas</td>\n",
       "      <td>9</td>\n",
       "      <td>9</td>\n",
       "      <td>10</td>\n",
       "      <td>1954</td>\n",
       "      <td>12959</td>\n",
       "      <td>1</td>\n",
       "      <td>13</td>\n",
       "      <td>183</td>\n",
       "      <td>False</td>\n",
       "      <td>False</td>\n",
       "    </tr>\n",
       "    <tr>\n",
       "      <th>3</th>\n",
       "      <td>4306514682</td>\n",
       "      <td>0:00:01.822000</td>\n",
       "      <td>sun kissed dawn</td>\n",
       "      <td>blue</td>\n",
       "      <td>bot_lane</td>\n",
       "      <td>41</td>\n",
       "      <td>False</td>\n",
       "      <td>Lucian</td>\n",
       "      <td>5</td>\n",
       "      <td>9</td>\n",
       "      <td>10</td>\n",
       "      <td>1944</td>\n",
       "      <td>11379</td>\n",
       "      <td>0</td>\n",
       "      <td>16</td>\n",
       "      <td>190</td>\n",
       "      <td>False</td>\n",
       "      <td>False</td>\n",
       "    </tr>\n",
       "    <tr>\n",
       "      <th>4</th>\n",
       "      <td>4306514682</td>\n",
       "      <td>0:00:01.822000</td>\n",
       "      <td>Verayson</td>\n",
       "      <td>blue</td>\n",
       "      <td>utility</td>\n",
       "      <td>109</td>\n",
       "      <td>False</td>\n",
       "      <td>Rakan</td>\n",
       "      <td>3</td>\n",
       "      <td>6</td>\n",
       "      <td>16</td>\n",
       "      <td>0</td>\n",
       "      <td>8784</td>\n",
       "      <td>0</td>\n",
       "      <td>70</td>\n",
       "      <td>34</td>\n",
       "      <td>False</td>\n",
       "      <td>False</td>\n",
       "    </tr>\n",
       "  </tbody>\n",
       "</table>\n",
       "</div>"
      ],
      "text/plain": [
       "     match_id        duration    summoner_name  side team_position  \\\n",
       "0  4306514682  0:00:01.822000  top is weakside  blue      top_lane   \n",
       "1  4306514682  0:00:01.822000        Bellydrum  blue        jungle   \n",
       "2  4306514682  0:00:01.822000      Roh Jungeui  blue      mid_lane   \n",
       "3  4306514682  0:00:01.822000  sun kissed dawn  blue      bot_lane   \n",
       "4  4306514682  0:00:01.822000         Verayson  blue       utility   \n",
       "\n",
       "   summoner_level    win  champion  kills  deaths  assists  damage_to_turrets  \\\n",
       "0              48  False  Malphite      1       8        8                323   \n",
       "1             248  False    Graves     12      10        8                743   \n",
       "2             433  False     Sylas      9       9       10               1954   \n",
       "3              41  False    Lucian      5       9       10               1944   \n",
       "4             109  False     Rakan      3       6       16                  0   \n",
       "\n",
       "   gold_earned  turret_takedowns  vision_score  minions_killed  first_blood  \\\n",
       "0         8539                 0            26             150        False   \n",
       "1        14714                 0            90              81         True   \n",
       "2        12959                 1            13             183        False   \n",
       "3        11379                 0            16             190        False   \n",
       "4         8784                 0            70              34        False   \n",
       "\n",
       "   first_tower  \n",
       "0        False  \n",
       "1        False  \n",
       "2        False  \n",
       "3        False  \n",
       "4        False  "
      ]
     },
     "execution_count": 4,
     "metadata": {},
     "output_type": "execute_result"
    }
   ],
   "source": [
    "match_history = pd.read_csv(\"match_history.csv\")\n",
    "match_history.head()"
   ]
  },
  {
   "cell_type": "code",
   "execution_count": 5,
   "metadata": {},
   "outputs": [
    {
     "data": {
      "text/plain": [
       "(34361, 18)"
      ]
     },
     "execution_count": 5,
     "metadata": {},
     "output_type": "execute_result"
    }
   ],
   "source": [
    "# There are 29353 rows of player data, and 18 different column features\n",
    "match_history.shape"
   ]
  },
  {
   "cell_type": "code",
   "execution_count": 6,
   "metadata": {},
   "outputs": [
    {
     "data": {
      "text/plain": [
       "4304892065      1\n",
       "4303458524      3\n",
       "4305634239      4\n",
       "4305773030      4\n",
       "4304402761      4\n",
       "             ... \n",
       "4305878645     70\n",
       "4305922045     80\n",
       "4306420131     90\n",
       "4306514682    100\n",
       "4305980817    100\n",
       "Name: match_id, Length: 2734, dtype: int64"
      ]
     },
     "execution_count": 6,
     "metadata": {},
     "output_type": "execute_result"
    }
   ],
   "source": [
    "# Check for duplicate/incomplete data (match_ids with more or less than 10 players)\n",
    "match_history['match_id'].value_counts().sort_values()"
   ]
  },
  {
   "cell_type": "code",
   "execution_count": 7,
   "metadata": {},
   "outputs": [
    {
     "data": {
      "text/html": [
       "<div>\n",
       "<style scoped>\n",
       "    .dataframe tbody tr th:only-of-type {\n",
       "        vertical-align: middle;\n",
       "    }\n",
       "\n",
       "    .dataframe tbody tr th {\n",
       "        vertical-align: top;\n",
       "    }\n",
       "\n",
       "    .dataframe thead th {\n",
       "        text-align: right;\n",
       "    }\n",
       "</style>\n",
       "<table border=\"1\" class=\"dataframe\">\n",
       "  <thead>\n",
       "    <tr style=\"text-align: right;\">\n",
       "      <th></th>\n",
       "      <th>match_id</th>\n",
       "      <th>side</th>\n",
       "      <th>team_position</th>\n",
       "      <th>champion</th>\n",
       "      <th>kills</th>\n",
       "      <th>deaths</th>\n",
       "      <th>assists</th>\n",
       "      <th>win</th>\n",
       "    </tr>\n",
       "  </thead>\n",
       "  <tbody>\n",
       "    <tr>\n",
       "      <th>0</th>\n",
       "      <td>4306514682</td>\n",
       "      <td>blue</td>\n",
       "      <td>top_lane</td>\n",
       "      <td>Malphite</td>\n",
       "      <td>1</td>\n",
       "      <td>8</td>\n",
       "      <td>8</td>\n",
       "      <td>False</td>\n",
       "    </tr>\n",
       "    <tr>\n",
       "      <th>1</th>\n",
       "      <td>4306514682</td>\n",
       "      <td>blue</td>\n",
       "      <td>jungle</td>\n",
       "      <td>Graves</td>\n",
       "      <td>12</td>\n",
       "      <td>10</td>\n",
       "      <td>8</td>\n",
       "      <td>False</td>\n",
       "    </tr>\n",
       "    <tr>\n",
       "      <th>2</th>\n",
       "      <td>4306514682</td>\n",
       "      <td>blue</td>\n",
       "      <td>mid_lane</td>\n",
       "      <td>Sylas</td>\n",
       "      <td>9</td>\n",
       "      <td>9</td>\n",
       "      <td>10</td>\n",
       "      <td>False</td>\n",
       "    </tr>\n",
       "    <tr>\n",
       "      <th>3</th>\n",
       "      <td>4306514682</td>\n",
       "      <td>blue</td>\n",
       "      <td>bot_lane</td>\n",
       "      <td>Lucian</td>\n",
       "      <td>5</td>\n",
       "      <td>9</td>\n",
       "      <td>10</td>\n",
       "      <td>False</td>\n",
       "    </tr>\n",
       "    <tr>\n",
       "      <th>4</th>\n",
       "      <td>4306514682</td>\n",
       "      <td>blue</td>\n",
       "      <td>utility</td>\n",
       "      <td>Rakan</td>\n",
       "      <td>3</td>\n",
       "      <td>6</td>\n",
       "      <td>16</td>\n",
       "      <td>False</td>\n",
       "    </tr>\n",
       "  </tbody>\n",
       "</table>\n",
       "</div>"
      ],
      "text/plain": [
       "     match_id  side team_position  champion  kills  deaths  assists    win\n",
       "0  4306514682  blue      top_lane  Malphite      1       8        8  False\n",
       "1  4306514682  blue        jungle    Graves     12      10        8  False\n",
       "2  4306514682  blue      mid_lane     Sylas      9       9       10  False\n",
       "3  4306514682  blue      bot_lane    Lucian      5       9       10  False\n",
       "4  4306514682  blue       utility     Rakan      3       6       16  False"
      ]
     },
     "execution_count": 7,
     "metadata": {},
     "output_type": "execute_result"
    }
   ],
   "source": [
    "df = clean_data(match_history)\n",
    "df.head()"
   ]
  },
  {
   "cell_type": "code",
   "execution_count": 8,
   "metadata": {},
   "outputs": [
    {
     "data": {
      "text/plain": [
       "(27120, 8)"
      ]
     },
     "execution_count": 8,
     "metadata": {},
     "output_type": "execute_result"
    }
   ],
   "source": [
    "# Validate the shape of our cleaned dataframe\n",
    "df.shape"
   ]
  },
  {
   "cell_type": "code",
   "execution_count": 9,
   "metadata": {},
   "outputs": [
    {
     "data": {
      "text/plain": [
       "4303216652    10\n",
       "4302149827    10\n",
       "4307085501    10\n",
       "4306046994    10\n",
       "4306190360    10\n",
       "              ..\n",
       "4271376223    10\n",
       "4298264438    10\n",
       "4305825690    10\n",
       "4307121969    10\n",
       "4294744029    10\n",
       "Name: match_id, Length: 2712, dtype: int64"
      ]
     },
     "execution_count": 9,
     "metadata": {},
     "output_type": "execute_result"
    }
   ],
   "source": [
    "# Validate that our cleaned dataframe doesn't have duplicate/incomplete data (match_ids with more or less than 10 players)\n",
    "df['match_id'].value_counts().sort_values()"
   ]
  },
  {
   "cell_type": "code",
   "execution_count": 10,
   "metadata": {},
   "outputs": [
    {
     "data": {
      "text/plain": [
       "match_id         0\n",
       "side             0\n",
       "team_position    0\n",
       "champion         0\n",
       "kills            0\n",
       "deaths           0\n",
       "assists          0\n",
       "win              0\n",
       "dtype: int64"
      ]
     },
     "execution_count": 10,
     "metadata": {},
     "output_type": "execute_result"
    }
   ],
   "source": [
    "# Validate that we aren't working with incomplete missing data\n",
    "df.isna().sum()"
   ]
  },
  {
   "cell_type": "code",
   "execution_count": 11,
   "metadata": {},
   "outputs": [
    {
     "data": {
      "text/plain": [
       "match_id          int64\n",
       "side             object\n",
       "team_position    object\n",
       "champion         object\n",
       "kills             int64\n",
       "deaths            int64\n",
       "assists           int64\n",
       "win                bool\n",
       "dtype: object"
      ]
     },
     "execution_count": 11,
     "metadata": {},
     "output_type": "execute_result"
    }
   ],
   "source": [
    "# Validate data types of each column feature\n",
    "df.dtypes"
   ]
  },
  {
   "cell_type": "markdown",
   "metadata": {},
   "source": [
    "Our method of cleaning the dataframe looks correct, now we can get into our analysis..."
   ]
  },
  {
   "cell_type": "markdown",
   "metadata": {},
   "source": [
    "### Exploratory Data Analysis"
   ]
  },
  {
   "cell_type": "markdown",
   "metadata": {},
   "source": [
    "In the figures below, we can observe the champions with the lowest and highest win rates. After creating our model, we will see whether we determine the probability of winning with fixed team compositions with the information shown in the bar plots above."
   ]
  },
  {
   "cell_type": "code",
   "execution_count": 12,
   "metadata": {},
   "outputs": [
    {
     "data": {
      "image/png": "[encoded data removed]",
      "text/plain": [
       "<Figure size 720x720 with 2 Axes>"
      ]
     },
     "metadata": {
      "needs_background": "light"
     },
     "output_type": "display_data"
    }
   ],
   "source": [
    "champion_dist = (\n",
    "    df.pivot_table(index=\"win\", \n",
    "                   columns=\"champion\",\n",
    "                   aggfunc=\"size\")\n",
    ")\n",
    "\n",
    "champion_dist = champion_dist/champion_dist.sum()\n",
    "champion_dist = champion_dist.T\n",
    "\n",
    "fig, axs = plt.subplots(ncols=2, nrows=2, figsize=(10,10))\n",
    "fig.delaxes(axs[1][1])\n",
    "fig.delaxes(axs[1][0])\n",
    "\n",
    "ax = champion_dist[True].sort_values(ascending=True)[:10].plot.bar(ax=axs[0][0], title=\"Champions w/ Lowest Win Rates\")\n",
    "ax.set_xlabel(\"Champion\")\n",
    "ax.set_ylabel(\"Win Rate\")\n",
    "ax.set_ylim(0,1)\n",
    "\n",
    "ax = champion_dist[True].sort_values(ascending=False)[:10].plot.bar(ax=axs[0][1], title=\"Champions w/ Highest Win Rates\")\n",
    "ax.set_xlabel(\"Champion\")\n",
    "ax.set_ylabel(\"Win Rate\")\n",
    "ax.set_ylim(0,1)\n",
    "\n",
    "fig.tight_layout()\n",
    "plt.show()"
   ]
  },
  {
   "cell_type": "markdown",
   "metadata": {},
   "source": [
    "In the figure below, we can observe the popularity of all the champions selected by the players in our data set. A quick overview of the plot indicate players are selective of the characters they choose to play League of Legends with. "
   ]
  },
  {
   "cell_type": "code",
   "execution_count": 13,
   "metadata": {},
   "outputs": [
    {
     "data": {
      "image/png": "[encoded data removed]",
      "text/plain": [
       "<Figure size 1800x720 with 1 Axes>"
      ]
     },
     "metadata": {
      "needs_background": "light"
     },
     "output_type": "display_data"
    }
   ],
   "source": [
    "plt.figure(figsize=(25,10))\n",
    "df.groupby(\"champion\").count()[\"match_id\"].rename(\"# Games Played\").sort_values(ascending=True).plot.bar(title=\"# of Games Played vs. Champion\")\n",
    "plt.ylabel(\"# Games Played\")\n",
    "plt.xlabel(\"Champion\")\n",
    "plt.show()"
   ]
  },
  {
   "cell_type": "markdown",
   "metadata": {},
   "source": [
    "The tables shown below display the champions with the most and least games played."
   ]
  },
  {
   "cell_type": "code",
   "execution_count": 14,
   "metadata": {},
   "outputs": [
    {
     "name": "stdout",
     "output_type": "stream",
     "text": [
      "| champion   |   # Games Played |\n",
      "|:-----------|-----------------:|\n",
      "| Ezreal     |              746 |\n",
      "| Graves     |              635 |\n",
      "| Lucian     |              617 |\n",
      "| Jhin       |              565 |\n",
      "| Karma      |              460 |\n",
      "| Taliyah    |              434 |\n",
      "| Nautilus   |              432 |\n",
      "| Viego      |              431 |\n",
      "| Kai'Sa     |              412 |\n",
      "| Nami       |              405 |\n"
     ]
    }
   ],
   "source": [
    "print(df.groupby(\"champion\").count()[\"match_id\"].rename(\"# Games Played\").sort_values(ascending=False)[:10].to_markdown())"
   ]
  },
  {
   "cell_type": "code",
   "execution_count": 15,
   "metadata": {},
   "outputs": [
    {
     "name": "stdout",
     "output_type": "stream",
     "text": [
      "| champion     |   # Games Played |\n",
      "|:-------------|-----------------:|\n",
      "| Skarner      |               15 |\n",
      "| Aurelion Sol |               20 |\n",
      "| Warwick      |               21 |\n",
      "| Illaoi       |               21 |\n",
      "| Amumu        |               23 |\n",
      "| Yorick       |               26 |\n",
      "| Ryze         |               28 |\n",
      "| Maokai       |               30 |\n",
      "| Rell         |               30 |\n",
      "| Rammus       |               33 |\n"
     ]
    }
   ],
   "source": [
    "print(df.groupby(\"champion\").count()[\"match_id\"].rename(\"# Games Played\").sort_values(ascending=True)[:10].to_markdown())"
   ]
  },
  {
   "cell_type": "markdown",
   "metadata": {},
   "source": [
    "### Predictive Model (Logistic Regression)"
   ]
  },
  {
   "cell_type": "code",
   "execution_count": 16,
   "metadata": {},
   "outputs": [],
   "source": [
    "def feat(datum):\n",
    "    feat = [1]\n",
    "    for champion_selected in datum:\n",
    "        champion = [0]*len(champion_dict)\n",
    "        champion[champion_dict[champion_selected]] = 1\n",
    "        feat += champion\n",
    "    return feat"
   ]
  },
  {
   "cell_type": "code",
   "execution_count": 17,
   "metadata": {},
   "outputs": [],
   "source": [
    "# Prepare the team composition data with their win label\n",
    "data = df.groupby([\"match_id\", \"win\"])[\"champion\"].apply(list).unstack()\n",
    "\n",
    "# Set aside a test set of size 298.\n",
    "reserved_test = data.iloc[:298]\n",
    "\n",
    "output = [(i, True) for i in data[True].values]\n",
    "output += [(i, False) for i in data[False].values]"
   ]
  },
  {
   "cell_type": "code",
   "execution_count": 18,
   "metadata": {},
   "outputs": [
    {
     "data": {
      "text/html": [
       "<div>\n",
       "<style scoped>\n",
       "    .dataframe tbody tr th:only-of-type {\n",
       "        vertical-align: middle;\n",
       "    }\n",
       "\n",
       "    .dataframe tbody tr th {\n",
       "        vertical-align: top;\n",
       "    }\n",
       "\n",
       "    .dataframe thead th {\n",
       "        text-align: right;\n",
       "    }\n",
       "</style>\n",
       "<table border=\"1\" class=\"dataframe\">\n",
       "  <thead>\n",
       "    <tr style=\"text-align: right;\">\n",
       "      <th>win</th>\n",
       "      <th>False</th>\n",
       "      <th>True</th>\n",
       "    </tr>\n",
       "    <tr>\n",
       "      <th>match_id</th>\n",
       "      <th></th>\n",
       "      <th></th>\n",
       "    </tr>\n",
       "  </thead>\n",
       "  <tbody>\n",
       "    <tr>\n",
       "      <th>4167993974</th>\n",
       "      <td>[Camille, Graves, Orianna, Jhin, Thresh]</td>\n",
       "      <td>[Gwen, Shaco, Yasuo, Kai'Sa, Alistar]</td>\n",
       "    </tr>\n",
       "    <tr>\n",
       "      <th>4168019856</th>\n",
       "      <td>[Yone, Jarvan IV, Yasuo, Caitlyn, Lux]</td>\n",
       "      <td>[Sett, Shaco, Vex, Draven, Pyke]</td>\n",
       "    </tr>\n",
       "    <tr>\n",
       "      <th>4168150884</th>\n",
       "      <td>[Jayce, Taliyah, Viktor, Caitlyn, Shen]</td>\n",
       "      <td>[Mordekaiser, Lee Sin, Ahri, Alistar, Jhin]</td>\n",
       "    </tr>\n",
       "    <tr>\n",
       "      <th>4168188605</th>\n",
       "      <td>[Tryndamere, Olaf, Akali, Heimerdinger, Rakan]</td>\n",
       "      <td>[Camille, Rek'Sai, Viktor, Ezreal, Leona]</td>\n",
       "    </tr>\n",
       "    <tr>\n",
       "      <th>4168265192</th>\n",
       "      <td>[Wukong, Graves, Yone, Jhin, Xerath]</td>\n",
       "      <td>[Camille, Ekko, Corki, Ashe, Vex]</td>\n",
       "    </tr>\n",
       "  </tbody>\n",
       "</table>\n",
       "</div>"
      ],
      "text/plain": [
       "win                                                  False  \\\n",
       "match_id                                                     \n",
       "4167993974        [Camille, Graves, Orianna, Jhin, Thresh]   \n",
       "4168019856          [Yone, Jarvan IV, Yasuo, Caitlyn, Lux]   \n",
       "4168150884         [Jayce, Taliyah, Viktor, Caitlyn, Shen]   \n",
       "4168188605  [Tryndamere, Olaf, Akali, Heimerdinger, Rakan]   \n",
       "4168265192            [Wukong, Graves, Yone, Jhin, Xerath]   \n",
       "\n",
       "win                                               True   \n",
       "match_id                                                 \n",
       "4167993974        [Gwen, Shaco, Yasuo, Kai'Sa, Alistar]  \n",
       "4168019856             [Sett, Shaco, Vex, Draven, Pyke]  \n",
       "4168150884  [Mordekaiser, Lee Sin, Ahri, Alistar, Jhin]  \n",
       "4168188605    [Camille, Rek'Sai, Viktor, Ezreal, Leona]  \n",
       "4168265192            [Camille, Ekko, Corki, Ashe, Vex]  "
      ]
     },
     "execution_count": 18,
     "metadata": {},
     "output_type": "execute_result"
    }
   ],
   "source": [
    "data.head()"
   ]
  },
  {
   "cell_type": "code",
   "execution_count": 19,
   "metadata": {},
   "outputs": [
    {
     "data": {
      "text/plain": [
       "[(['Gwen', 'Shaco', 'Yasuo', \"Kai'Sa\", 'Alistar'], True),\n",
       " (['Sett', 'Shaco', 'Vex', 'Draven', 'Pyke'], True),\n",
       " (['Mordekaiser', 'Lee Sin', 'Ahri', 'Alistar', 'Jhin'], True),\n",
       " (['Camille', \"Rek'Sai\", 'Viktor', 'Ezreal', 'Leona'], True),\n",
       " (['Camille', 'Ekko', 'Corki', 'Ashe', 'Vex'], True)]"
      ]
     },
     "execution_count": 19,
     "metadata": {},
     "output_type": "execute_result"
    }
   ],
   "source": [
    "output[:5]"
   ]
  },
  {
   "cell_type": "code",
   "execution_count": 20,
   "metadata": {},
   "outputs": [],
   "source": [
    "# Create a dictionary for the unique champions in the game to prep for one-hot-encoding\n",
    "champion_dict = dict(enumerate(np.unique([i[0] for i in output])))\n",
    "champion_dict = dict((v,k) for k,v in champion_dict.items())"
   ]
  },
  {
   "cell_type": "code",
   "execution_count": 21,
   "metadata": {},
   "outputs": [],
   "source": [
    "X = [feat(d[0]) for d in output]\n",
    "y = [d[1] for d in output]\n",
    "\n",
    "X_train, X_test, y_train, y_test = train_test_split(X, y, test_size=0.20, random_state=42)"
   ]
  },
  {
   "cell_type": "code",
   "execution_count": 22,
   "metadata": {},
   "outputs": [
    {
     "data": {
      "text/plain": [
       "LogisticRegression(C=1, class_weight='balanced')"
      ]
     },
     "execution_count": 22,
     "metadata": {},
     "output_type": "execute_result"
    }
   ],
   "source": [
    "model = sklearn.linear_model.LogisticRegression(penalty=\"l2\", fit_intercept=True, C=1, class_weight=\"balanced\")\n",
    "model.fit(X_train, y_train)"
   ]
  },
  {
   "cell_type": "code",
   "execution_count": 23,
   "metadata": {},
   "outputs": [
    {
     "name": "stdout",
     "output_type": "stream",
     "text": [
      "Training Accuracy: 0.6310209725743259\n",
      "Validation Accuracy: 0.511520737327189\n"
     ]
    }
   ],
   "source": [
    "print('Training Accuracy:', model.score(X_train, y_train))\n",
    "print('Validation Accuracy:', model.score(X_test, y_test))"
   ]
  },
  {
   "cell_type": "markdown",
   "metadata": {},
   "source": [
    "Looking at the results of my Logistic Regression model, the model appears to perform well on the training set but perform poorly on the validation set. Although the results don't appear very impressive, this accuracy is misleading because it doesn't evaluate the accuracy of predicting the winning team out of two different team compositions. I will evaluate the true performance of the model on the test set after implementing other models."
   ]
  },
  {
   "cell_type": "markdown",
   "metadata": {},
   "source": [
    "### Predictive Model (Random Forest)"
   ]
  },
  {
   "cell_type": "code",
   "execution_count": 24,
   "metadata": {},
   "outputs": [
    {
     "data": {
      "text/plain": [
       "RandomForestClassifier(max_depth=10)"
      ]
     },
     "execution_count": 24,
     "metadata": {},
     "output_type": "execute_result"
    }
   ],
   "source": [
    "model = RandomForestClassifier(max_depth=10)\n",
    "model.fit(X_train, y_train)"
   ]
  },
  {
   "cell_type": "code",
   "execution_count": 25,
   "metadata": {},
   "outputs": [
    {
     "name": "stdout",
     "output_type": "stream",
     "text": [
      "Training Accuracy: 0.708919105784743\n",
      "Validation Accuracy: 0.48847926267281105\n"
     ]
    }
   ],
   "source": [
    "print('Training Accuracy:', model.score(X_train, y_train))\n",
    "print('Validation Accuracy:', model.score(X_test, y_test))"
   ]
  },
  {
   "cell_type": "code",
   "execution_count": 26,
   "metadata": {},
   "outputs": [
    {
     "data": {
      "text/html": [
       "<div>\n",
       "<style scoped>\n",
       "    .dataframe tbody tr th:only-of-type {\n",
       "        vertical-align: middle;\n",
       "    }\n",
       "\n",
       "    .dataframe tbody tr th {\n",
       "        vertical-align: top;\n",
       "    }\n",
       "\n",
       "    .dataframe thead th {\n",
       "        text-align: right;\n",
       "    }\n",
       "</style>\n",
       "<table border=\"1\" class=\"dataframe\">\n",
       "  <thead>\n",
       "    <tr style=\"text-align: right;\">\n",
       "      <th>win</th>\n",
       "      <th>False</th>\n",
       "      <th>True</th>\n",
       "    </tr>\n",
       "    <tr>\n",
       "      <th>match_id</th>\n",
       "      <th></th>\n",
       "      <th></th>\n",
       "    </tr>\n",
       "  </thead>\n",
       "  <tbody>\n",
       "    <tr>\n",
       "      <th>4167993974</th>\n",
       "      <td>[Camille, Graves, Orianna, Jhin, Thresh]</td>\n",
       "      <td>[Gwen, Shaco, Yasuo, Kai'Sa, Alistar]</td>\n",
       "    </tr>\n",
       "    <tr>\n",
       "      <th>4168019856</th>\n",
       "      <td>[Yone, Jarvan IV, Yasuo, Caitlyn, Lux]</td>\n",
       "      <td>[Sett, Shaco, Vex, Draven, Pyke]</td>\n",
       "    </tr>\n",
       "    <tr>\n",
       "      <th>4168150884</th>\n",
       "      <td>[Jayce, Taliyah, Viktor, Caitlyn, Shen]</td>\n",
       "      <td>[Mordekaiser, Lee Sin, Ahri, Alistar, Jhin]</td>\n",
       "    </tr>\n",
       "    <tr>\n",
       "      <th>4168188605</th>\n",
       "      <td>[Tryndamere, Olaf, Akali, Heimerdinger, Rakan]</td>\n",
       "      <td>[Camille, Rek'Sai, Viktor, Ezreal, Leona]</td>\n",
       "    </tr>\n",
       "    <tr>\n",
       "      <th>4168265192</th>\n",
       "      <td>[Wukong, Graves, Yone, Jhin, Xerath]</td>\n",
       "      <td>[Camille, Ekko, Corki, Ashe, Vex]</td>\n",
       "    </tr>\n",
       "  </tbody>\n",
       "</table>\n",
       "</div>"
      ],
      "text/plain": [
       "win                                                  False  \\\n",
       "match_id                                                     \n",
       "4167993974        [Camille, Graves, Orianna, Jhin, Thresh]   \n",
       "4168019856          [Yone, Jarvan IV, Yasuo, Caitlyn, Lux]   \n",
       "4168150884         [Jayce, Taliyah, Viktor, Caitlyn, Shen]   \n",
       "4168188605  [Tryndamere, Olaf, Akali, Heimerdinger, Rakan]   \n",
       "4168265192            [Wukong, Graves, Yone, Jhin, Xerath]   \n",
       "\n",
       "win                                               True   \n",
       "match_id                                                 \n",
       "4167993974        [Gwen, Shaco, Yasuo, Kai'Sa, Alistar]  \n",
       "4168019856             [Sett, Shaco, Vex, Draven, Pyke]  \n",
       "4168150884  [Mordekaiser, Lee Sin, Ahri, Alistar, Jhin]  \n",
       "4168188605    [Camille, Rek'Sai, Viktor, Ezreal, Leona]  \n",
       "4168265192            [Camille, Ekko, Corki, Ashe, Vex]  "
      ]
     },
     "execution_count": 26,
     "metadata": {},
     "output_type": "execute_result"
    }
   ],
   "source": [
    "data.head()"
   ]
  },
  {
   "cell_type": "code",
   "execution_count": 27,
   "metadata": {},
   "outputs": [
    {
     "data": {
      "text/html": [
       "<div>\n",
       "<style scoped>\n",
       "    .dataframe tbody tr th:only-of-type {\n",
       "        vertical-align: middle;\n",
       "    }\n",
       "\n",
       "    .dataframe tbody tr th {\n",
       "        vertical-align: top;\n",
       "    }\n",
       "\n",
       "    .dataframe thead th {\n",
       "        text-align: right;\n",
       "    }\n",
       "</style>\n",
       "<table border=\"1\" class=\"dataframe\">\n",
       "  <thead>\n",
       "    <tr style=\"text-align: right;\">\n",
       "      <th>win</th>\n",
       "      <th>False</th>\n",
       "      <th>True</th>\n",
       "    </tr>\n",
       "    <tr>\n",
       "      <th>match_id</th>\n",
       "      <th></th>\n",
       "      <th></th>\n",
       "    </tr>\n",
       "  </thead>\n",
       "  <tbody>\n",
       "    <tr>\n",
       "      <th>4167993974</th>\n",
       "      <td>[Camille, Graves, Orianna, Jhin, Thresh]</td>\n",
       "      <td>[Gwen, Shaco, Yasuo, Kai'Sa, Alistar]</td>\n",
       "    </tr>\n",
       "    <tr>\n",
       "      <th>4168019856</th>\n",
       "      <td>[Yone, Jarvan IV, Yasuo, Caitlyn, Lux]</td>\n",
       "      <td>[Sett, Shaco, Vex, Draven, Pyke]</td>\n",
       "    </tr>\n",
       "    <tr>\n",
       "      <th>4168150884</th>\n",
       "      <td>[Jayce, Taliyah, Viktor, Caitlyn, Shen]</td>\n",
       "      <td>[Mordekaiser, Lee Sin, Ahri, Alistar, Jhin]</td>\n",
       "    </tr>\n",
       "    <tr>\n",
       "      <th>4168188605</th>\n",
       "      <td>[Tryndamere, Olaf, Akali, Heimerdinger, Rakan]</td>\n",
       "      <td>[Camille, Rek'Sai, Viktor, Ezreal, Leona]</td>\n",
       "    </tr>\n",
       "    <tr>\n",
       "      <th>4168265192</th>\n",
       "      <td>[Wukong, Graves, Yone, Jhin, Xerath]</td>\n",
       "      <td>[Camille, Ekko, Corki, Ashe, Vex]</td>\n",
       "    </tr>\n",
       "  </tbody>\n",
       "</table>\n",
       "</div>"
      ],
      "text/plain": [
       "win                                                  False  \\\n",
       "match_id                                                     \n",
       "4167993974        [Camille, Graves, Orianna, Jhin, Thresh]   \n",
       "4168019856          [Yone, Jarvan IV, Yasuo, Caitlyn, Lux]   \n",
       "4168150884         [Jayce, Taliyah, Viktor, Caitlyn, Shen]   \n",
       "4168188605  [Tryndamere, Olaf, Akali, Heimerdinger, Rakan]   \n",
       "4168265192            [Wukong, Graves, Yone, Jhin, Xerath]   \n",
       "\n",
       "win                                               True   \n",
       "match_id                                                 \n",
       "4167993974        [Gwen, Shaco, Yasuo, Kai'Sa, Alistar]  \n",
       "4168019856             [Sett, Shaco, Vex, Draven, Pyke]  \n",
       "4168150884  [Mordekaiser, Lee Sin, Ahri, Alistar, Jhin]  \n",
       "4168188605    [Camille, Rek'Sai, Viktor, Ezreal, Leona]  \n",
       "4168265192            [Camille, Ekko, Corki, Ashe, Vex]  "
      ]
     },
     "execution_count": 27,
     "metadata": {},
     "output_type": "execute_result"
    }
   ],
   "source": [
    "reserved_test.head()"
   ]
  },
  {
   "cell_type": "code",
   "execution_count": 28,
   "metadata": {},
   "outputs": [
    {
     "name": "stderr",
     "output_type": "stream",
     "text": [
      "<ipython-input-28-a4e630d7e56f>:1: SettingWithCopyWarning: \n",
      "A value is trying to be set on a copy of a slice from a DataFrame.\n",
      "Try using .loc[row_indexer,col_indexer] = value instead\n",
      "\n",
      "See the caveats in the documentation: https://pandas.pydata.org/pandas-docs/stable/user_guide/indexing.html#returning-a-view-versus-a-copy\n",
      "  reserved_test[\"Probability of Winning (False)\"] = [model.predict_proba([feat(i)])[0][1] for i in reserved_test[False].values]\n",
      "<ipython-input-28-a4e630d7e56f>:2: SettingWithCopyWarning: \n",
      "A value is trying to be set on a copy of a slice from a DataFrame.\n",
      "Try using .loc[row_indexer,col_indexer] = value instead\n",
      "\n",
      "See the caveats in the documentation: https://pandas.pydata.org/pandas-docs/stable/user_guide/indexing.html#returning-a-view-versus-a-copy\n",
      "  reserved_test[\"Probability of Winning (True)\"] = [model.predict_proba([feat(i)])[0][1] for i in reserved_test[True].values]\n"
     ]
    }
   ],
   "source": [
    "reserved_test[\"Probability of Winning (False)\"] = [model.predict_proba([feat(i)])[0][1] for i in reserved_test[False].values]\n",
    "reserved_test[\"Probability of Winning (True)\"] = [model.predict_proba([feat(i)])[0][1] for i in reserved_test[True].values]\n",
    "reserved_test = reserved_test[[False, \"Probability of Winning (False)\", True, \"Probability of Winning (True)\"]]"
   ]
  },
  {
   "cell_type": "markdown",
   "metadata": {},
   "source": [
    "In the cell above, I used the model to predict the probability of winning for both team compositions in a match."
   ]
  },
  {
   "cell_type": "code",
   "execution_count": 29,
   "metadata": {},
   "outputs": [
    {
     "data": {
      "text/html": [
       "<div>\n",
       "<style scoped>\n",
       "    .dataframe tbody tr th:only-of-type {\n",
       "        vertical-align: middle;\n",
       "    }\n",
       "\n",
       "    .dataframe tbody tr th {\n",
       "        vertical-align: top;\n",
       "    }\n",
       "\n",
       "    .dataframe thead th {\n",
       "        text-align: right;\n",
       "    }\n",
       "</style>\n",
       "<table border=\"1\" class=\"dataframe\">\n",
       "  <thead>\n",
       "    <tr style=\"text-align: right;\">\n",
       "      <th>win</th>\n",
       "      <th>False</th>\n",
       "      <th>Probability of Winning (False)</th>\n",
       "      <th>True</th>\n",
       "      <th>Probability of Winning (True)</th>\n",
       "    </tr>\n",
       "    <tr>\n",
       "      <th>match_id</th>\n",
       "      <th></th>\n",
       "      <th></th>\n",
       "      <th></th>\n",
       "      <th></th>\n",
       "    </tr>\n",
       "  </thead>\n",
       "  <tbody>\n",
       "    <tr>\n",
       "      <th>4167993974</th>\n",
       "      <td>[Camille, Graves, Orianna, Jhin, Thresh]</td>\n",
       "      <td>0.484968</td>\n",
       "      <td>[Gwen, Shaco, Yasuo, Kai'Sa, Alistar]</td>\n",
       "      <td>0.518139</td>\n",
       "    </tr>\n",
       "    <tr>\n",
       "      <th>4168019856</th>\n",
       "      <td>[Yone, Jarvan IV, Yasuo, Caitlyn, Lux]</td>\n",
       "      <td>0.495983</td>\n",
       "      <td>[Sett, Shaco, Vex, Draven, Pyke]</td>\n",
       "      <td>0.542935</td>\n",
       "    </tr>\n",
       "    <tr>\n",
       "      <th>4168150884</th>\n",
       "      <td>[Jayce, Taliyah, Viktor, Caitlyn, Shen]</td>\n",
       "      <td>0.491679</td>\n",
       "      <td>[Mordekaiser, Lee Sin, Ahri, Alistar, Jhin]</td>\n",
       "      <td>0.498324</td>\n",
       "    </tr>\n",
       "    <tr>\n",
       "      <th>4168188605</th>\n",
       "      <td>[Tryndamere, Olaf, Akali, Heimerdinger, Rakan]</td>\n",
       "      <td>0.500558</td>\n",
       "      <td>[Camille, Rek'Sai, Viktor, Ezreal, Leona]</td>\n",
       "      <td>0.488743</td>\n",
       "    </tr>\n",
       "    <tr>\n",
       "      <th>4168265192</th>\n",
       "      <td>[Wukong, Graves, Yone, Jhin, Xerath]</td>\n",
       "      <td>0.482397</td>\n",
       "      <td>[Camille, Ekko, Corki, Ashe, Vex]</td>\n",
       "      <td>0.495669</td>\n",
       "    </tr>\n",
       "    <tr>\n",
       "      <th>4168337089</th>\n",
       "      <td>[Riven, Graves, Ryze, Kai'Sa, Karma]</td>\n",
       "      <td>0.457119</td>\n",
       "      <td>[Zed, Viego, Malzahar, Jhin, Pyke]</td>\n",
       "      <td>0.525712</td>\n",
       "    </tr>\n",
       "    <tr>\n",
       "      <th>4168350291</th>\n",
       "      <td>[Kled, Graves, Twisted Fate, Kog'Maw, Bard]</td>\n",
       "      <td>0.508978</td>\n",
       "      <td>[Nasus, Lee Sin, Malzahar, Jinx, Lulu]</td>\n",
       "      <td>0.488092</td>\n",
       "    </tr>\n",
       "    <tr>\n",
       "      <th>4172216681</th>\n",
       "      <td>[Camille, Viego, Malzahar, Jinx, Nautilus]</td>\n",
       "      <td>0.467169</td>\n",
       "      <td>[Tryndamere, Zed, Twisted Fate, Ezreal, Rakan]</td>\n",
       "      <td>0.479087</td>\n",
       "    </tr>\n",
       "    <tr>\n",
       "      <th>4181062332</th>\n",
       "      <td>[Aatrox, Kayn, Sylas, Swain, Nautilus]</td>\n",
       "      <td>0.492366</td>\n",
       "      <td>[Yone, Diana, Yasuo, Jinx, Lulu]</td>\n",
       "      <td>0.497475</td>\n",
       "    </tr>\n",
       "    <tr>\n",
       "      <th>4181088781</th>\n",
       "      <td>[Akali, Graves, Xerath, Jhin, Yuumi]</td>\n",
       "      <td>0.472815</td>\n",
       "      <td>[Wukong, Xin Zhao, Malzahar, Aphelios, Lulu]</td>\n",
       "      <td>0.488739</td>\n",
       "    </tr>\n",
       "    <tr>\n",
       "      <th>4184918527</th>\n",
       "      <td>[Yone, Qiyana, Sylas, Jinx, Nami]</td>\n",
       "      <td>0.498817</td>\n",
       "      <td>[Pantheon, Fiddlesticks, Akali, Jhin, Soraka]</td>\n",
       "      <td>0.503693</td>\n",
       "    </tr>\n",
       "    <tr>\n",
       "      <th>4186521278</th>\n",
       "      <td>[Gragas, Diana, Yone, Aphelios, Janna]</td>\n",
       "      <td>0.472877</td>\n",
       "      <td>[Urgot, Viego, Kassadin, Jhin, Sona]</td>\n",
       "      <td>0.509582</td>\n",
       "    </tr>\n",
       "    <tr>\n",
       "      <th>4190767290</th>\n",
       "      <td>[Gwen, Lee Sin, Zeri, Ezreal, Karma]</td>\n",
       "      <td>0.514673</td>\n",
       "      <td>[Irelia, Diana, Zed, Jinx, Thresh]</td>\n",
       "      <td>0.490222</td>\n",
       "    </tr>\n",
       "    <tr>\n",
       "      <th>4195567583</th>\n",
       "      <td>[Gragas, Shaco, Zed, Jhin, Nami]</td>\n",
       "      <td>0.476255</td>\n",
       "      <td>[Gwen, Lee Sin, Viktor, Sivir, Janna]</td>\n",
       "      <td>0.496862</td>\n",
       "    </tr>\n",
       "    <tr>\n",
       "      <th>4195635632</th>\n",
       "      <td>[Yone, Fiddlesticks, Qiyana, Jhin, Thresh]</td>\n",
       "      <td>0.496142</td>\n",
       "      <td>[Akshan, Karthus, Rumble, Ezreal, Pyke]</td>\n",
       "      <td>0.507303</td>\n",
       "    </tr>\n",
       "    <tr>\n",
       "      <th>4195673110</th>\n",
       "      <td>[Irelia, Diana, Viktor, Caitlyn, Janna]</td>\n",
       "      <td>0.485398</td>\n",
       "      <td>[Jax, Karthus, Corki, Jhin, Pyke]</td>\n",
       "      <td>0.525685</td>\n",
       "    </tr>\n",
       "    <tr>\n",
       "      <th>4221448508</th>\n",
       "      <td>[Gangplank, Graves, Akali, Caitlyn, Karma]</td>\n",
       "      <td>0.491790</td>\n",
       "      <td>[Irelia, Talon, Katarina, Kai'Sa, Renata Glasc]</td>\n",
       "      <td>0.494780</td>\n",
       "    </tr>\n",
       "    <tr>\n",
       "      <th>4221870027</th>\n",
       "      <td>[Dr. Mundo, Shaco, Twisted Fate, Jinx, Nautilus]</td>\n",
       "      <td>0.494241</td>\n",
       "      <td>[Gwen, Lillia, Sylas, Jhin, Lux]</td>\n",
       "      <td>0.521007</td>\n",
       "    </tr>\n",
       "    <tr>\n",
       "      <th>4222092866</th>\n",
       "      <td>[Tryndamere, Kayn, Viktor, Caitlyn, Nami]</td>\n",
       "      <td>0.481687</td>\n",
       "      <td>[Garen, Hecarim, Yasuo, Ekko, Yuumi]</td>\n",
       "      <td>0.535639</td>\n",
       "    </tr>\n",
       "    <tr>\n",
       "      <th>4222137808</th>\n",
       "      <td>[Gragas, Kha'Zix, Viego, Jhin, Nami]</td>\n",
       "      <td>0.439047</td>\n",
       "      <td>[Tryndamere, Kayn, Viktor, Kai'Sa, Pyke]</td>\n",
       "      <td>0.526863</td>\n",
       "    </tr>\n",
       "  </tbody>\n",
       "</table>\n",
       "</div>"
      ],
      "text/plain": [
       "win                                                    False  \\\n",
       "match_id                                                       \n",
       "4167993974          [Camille, Graves, Orianna, Jhin, Thresh]   \n",
       "4168019856            [Yone, Jarvan IV, Yasuo, Caitlyn, Lux]   \n",
       "4168150884           [Jayce, Taliyah, Viktor, Caitlyn, Shen]   \n",
       "4168188605    [Tryndamere, Olaf, Akali, Heimerdinger, Rakan]   \n",
       "4168265192              [Wukong, Graves, Yone, Jhin, Xerath]   \n",
       "4168337089              [Riven, Graves, Ryze, Kai'Sa, Karma]   \n",
       "4168350291       [Kled, Graves, Twisted Fate, Kog'Maw, Bard]   \n",
       "4172216681        [Camille, Viego, Malzahar, Jinx, Nautilus]   \n",
       "4181062332            [Aatrox, Kayn, Sylas, Swain, Nautilus]   \n",
       "4181088781              [Akali, Graves, Xerath, Jhin, Yuumi]   \n",
       "4184918527                 [Yone, Qiyana, Sylas, Jinx, Nami]   \n",
       "4186521278            [Gragas, Diana, Yone, Aphelios, Janna]   \n",
       "4190767290              [Gwen, Lee Sin, Zeri, Ezreal, Karma]   \n",
       "4195567583                  [Gragas, Shaco, Zed, Jhin, Nami]   \n",
       "4195635632        [Yone, Fiddlesticks, Qiyana, Jhin, Thresh]   \n",
       "4195673110           [Irelia, Diana, Viktor, Caitlyn, Janna]   \n",
       "4221448508        [Gangplank, Graves, Akali, Caitlyn, Karma]   \n",
       "4221870027  [Dr. Mundo, Shaco, Twisted Fate, Jinx, Nautilus]   \n",
       "4222092866         [Tryndamere, Kayn, Viktor, Caitlyn, Nami]   \n",
       "4222137808              [Gragas, Kha'Zix, Viego, Jhin, Nami]   \n",
       "\n",
       "win         Probability of Winning (False)  \\\n",
       "match_id                                     \n",
       "4167993974                        0.484968   \n",
       "4168019856                        0.495983   \n",
       "4168150884                        0.491679   \n",
       "4168188605                        0.500558   \n",
       "4168265192                        0.482397   \n",
       "4168337089                        0.457119   \n",
       "4168350291                        0.508978   \n",
       "4172216681                        0.467169   \n",
       "4181062332                        0.492366   \n",
       "4181088781                        0.472815   \n",
       "4184918527                        0.498817   \n",
       "4186521278                        0.472877   \n",
       "4190767290                        0.514673   \n",
       "4195567583                        0.476255   \n",
       "4195635632                        0.496142   \n",
       "4195673110                        0.485398   \n",
       "4221448508                        0.491790   \n",
       "4221870027                        0.494241   \n",
       "4222092866                        0.481687   \n",
       "4222137808                        0.439047   \n",
       "\n",
       "win                                                    True  \\\n",
       "match_id                                                      \n",
       "4167993974            [Gwen, Shaco, Yasuo, Kai'Sa, Alistar]   \n",
       "4168019856                 [Sett, Shaco, Vex, Draven, Pyke]   \n",
       "4168150884      [Mordekaiser, Lee Sin, Ahri, Alistar, Jhin]   \n",
       "4168188605        [Camille, Rek'Sai, Viktor, Ezreal, Leona]   \n",
       "4168265192                [Camille, Ekko, Corki, Ashe, Vex]   \n",
       "4168337089               [Zed, Viego, Malzahar, Jhin, Pyke]   \n",
       "4168350291           [Nasus, Lee Sin, Malzahar, Jinx, Lulu]   \n",
       "4172216681   [Tryndamere, Zed, Twisted Fate, Ezreal, Rakan]   \n",
       "4181062332                 [Yone, Diana, Yasuo, Jinx, Lulu]   \n",
       "4181088781     [Wukong, Xin Zhao, Malzahar, Aphelios, Lulu]   \n",
       "4184918527    [Pantheon, Fiddlesticks, Akali, Jhin, Soraka]   \n",
       "4186521278             [Urgot, Viego, Kassadin, Jhin, Sona]   \n",
       "4190767290               [Irelia, Diana, Zed, Jinx, Thresh]   \n",
       "4195567583            [Gwen, Lee Sin, Viktor, Sivir, Janna]   \n",
       "4195635632          [Akshan, Karthus, Rumble, Ezreal, Pyke]   \n",
       "4195673110                [Jax, Karthus, Corki, Jhin, Pyke]   \n",
       "4221448508  [Irelia, Talon, Katarina, Kai'Sa, Renata Glasc]   \n",
       "4221870027                 [Gwen, Lillia, Sylas, Jhin, Lux]   \n",
       "4222092866             [Garen, Hecarim, Yasuo, Ekko, Yuumi]   \n",
       "4222137808         [Tryndamere, Kayn, Viktor, Kai'Sa, Pyke]   \n",
       "\n",
       "win         Probability of Winning (True)  \n",
       "match_id                                   \n",
       "4167993974                       0.518139  \n",
       "4168019856                       0.542935  \n",
       "4168150884                       0.498324  \n",
       "4168188605                       0.488743  \n",
       "4168265192                       0.495669  \n",
       "4168337089                       0.525712  \n",
       "4168350291                       0.488092  \n",
       "4172216681                       0.479087  \n",
       "4181062332                       0.497475  \n",
       "4181088781                       0.488739  \n",
       "4184918527                       0.503693  \n",
       "4186521278                       0.509582  \n",
       "4190767290                       0.490222  \n",
       "4195567583                       0.496862  \n",
       "4195635632                       0.507303  \n",
       "4195673110                       0.525685  \n",
       "4221448508                       0.494780  \n",
       "4221870027                       0.521007  \n",
       "4222092866                       0.535639  \n",
       "4222137808                       0.526863  "
      ]
     },
     "execution_count": 29,
     "metadata": {},
     "output_type": "execute_result"
    }
   ],
   "source": [
    "reserved_test.head(20)"
   ]
  },
  {
   "cell_type": "code",
   "execution_count": 30,
   "metadata": {},
   "outputs": [
    {
     "name": "stdout",
     "output_type": "stream",
     "text": [
      "Accuracy (Test Set): 0.7550335570469798\n"
     ]
    }
   ],
   "source": [
    "# Calculate the accuracy of the model when comparing the probability of winning for two opposing team compositions\n",
    "result = (reserved_test[\"Probability of Winning (True)\"] > reserved_test[\"Probability of Winning (False)\"]).mean()\n",
    "print(\"Accuracy (Test Set): \" + str(result))"
   ]
  },
  {
   "cell_type": "markdown",
   "metadata": {},
   "source": [
    "In the previous section, I reserved about 298 samples from the data set which was never used to train the models. The flaw of the accuracy that we evaluated for the training set and test set was that it was evaluating whether a single team composition would win the game; however a specific team composition doesn't necessarily imply an automatic win. The way that I evaluated the performance of my model is by calculating the probablity of winning for both team compositions in a single match, and having the model determine the winning team by choosing the team composition with the highest probability of winning. We can observe that the accuracy is quite high compared to my previous iterations of this notebook, and make a better informed decision by comparing the probability of winning for the two team compositions."
   ]
  },
  {
   "cell_type": "markdown",
   "metadata": {},
   "source": [
    "### Summary of Results"
   ]
  },
  {
   "cell_type": "markdown",
   "metadata": {},
   "source": [
    "Although the results of the training set and validation was decieving, I was able to significantly improve my model compared to previous iteration and earn an accuracy of about 77% on the test set. By comparing the probability of winning of the two team compositions during champion selection, players will be able to have an edge in climbing global rankings by having the ability to make a better informed decision and dodge a potentially devasting game of League of Legends.\n",
    "\n",
    "There are definely improvements that could be made on this model performance. In this project, I primarily focused on the population of high-ranking players which introduced bias into this model. It would make to sense to explore other model options such as boosting algorithms, decision trees, etc., look into collecting more sample data, and create a nicer user interface where players can input team composition information to get the probablity of winning."
   ]
  },
  {
   "cell_type": "code",
   "execution_count": null,
   "metadata": {},
   "outputs": [],
   "source": []
  }
 ],
 "metadata": {
  "kernelspec": {
   "display_name": "Python 3",
   "language": "python",
   "name": "python3"
  },
  "language_info": {
   "codemirror_mode": {
    "name": "ipython",
    "version": 3
   },
   "file_extension": ".py",
   "mimetype": "text/x-python",
   "name": "python",
   "nbconvert_exporter": "python",
   "pygments_lexer": "ipython3",
   "version": "3.8.8"
  }
 },
 "nbformat": 4,
 "nbformat_minor": 2
}
